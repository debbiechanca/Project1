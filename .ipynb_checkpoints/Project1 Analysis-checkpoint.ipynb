{
 "cells": [
  {
   "cell_type": "code",
   "execution_count": 1,
   "metadata": {},
   "outputs": [],
   "source": [
    "# Import modules\n",
    "import pandas as pd\n",
    "\n",
    "import matplotlib.pyplot as plt\n",
    "import numpy as np"
   ]
  },
  {
   "cell_type": "code",
   "execution_count": 2,
   "metadata": {},
   "outputs": [],
   "source": [
    "# Open sfdata.csv which contains demographic and location data and homeprices.csv which contains the average single home prices\n",
    "# for 2017 by months to compare other city's home price with San Francisco.\n",
    "data_file = \"sfdata.csv\"\n",
    "price_file = \"homeprice.csv\""
   ]
  },
  {
   "cell_type": "code",
   "execution_count": 3,
   "metadata": {},
   "outputs": [],
   "source": [
    "# Read data wrangled from sfgov.org data and zillow.com.\n",
    "sf_df = pd.read_csv(data_file)\n",
    "homeprice_df = pd.read_csv(price_file)"
   ]
  },
  {
   "cell_type": "code",
   "execution_count": 4,
   "metadata": {},
   "outputs": [
    {
     "data": {
      "text/html": [
       "<div>\n",
       "<style scoped>\n",
       "    .dataframe tbody tr th:only-of-type {\n",
       "        vertical-align: middle;\n",
       "    }\n",
       "\n",
       "    .dataframe tbody tr th {\n",
       "        vertical-align: top;\n",
       "    }\n",
       "\n",
       "    .dataframe thead th {\n",
       "        text-align: right;\n",
       "    }\n",
       "</style>\n",
       "<table border=\"1\" class=\"dataframe\">\n",
       "  <thead>\n",
       "    <tr style=\"text-align: right;\">\n",
       "      <th></th>\n",
       "      <th>year</th>\n",
       "      <th>zipcode</th>\n",
       "      <th>dage</th>\n",
       "      <th>dethnic</th>\n",
       "      <th>dlivedsf</th>\n",
       "      <th>deduc</th>\n",
       "      <th>dincome</th>\n",
       "      <th>movesf</th>\n",
       "      <th>ownrenhm</th>\n",
       "      <th>City</th>\n",
       "      <th>State</th>\n",
       "      <th>AvePrice</th>\n",
       "      <th>Lat</th>\n",
       "      <th>Lng</th>\n",
       "    </tr>\n",
       "  </thead>\n",
       "  <tbody>\n",
       "    <tr>\n",
       "      <th>4</th>\n",
       "      <td>2017</td>\n",
       "      <td>94109</td>\n",
       "      <td>5</td>\n",
       "      <td>4</td>\n",
       "      <td>1</td>\n",
       "      <td>4</td>\n",
       "      <td>8</td>\n",
       "      <td>1</td>\n",
       "      <td>3</td>\n",
       "      <td>San Francisco</td>\n",
       "      <td>CA</td>\n",
       "      <td>3.942708e+06</td>\n",
       "      <td>37.792979</td>\n",
       "      <td>-122.421242</td>\n",
       "    </tr>\n",
       "    <tr>\n",
       "      <th>7</th>\n",
       "      <td>2017</td>\n",
       "      <td>94109</td>\n",
       "      <td>2</td>\n",
       "      <td>2</td>\n",
       "      <td>4</td>\n",
       "      <td>4</td>\n",
       "      <td>5</td>\n",
       "      <td>1</td>\n",
       "      <td>2</td>\n",
       "      <td>San Francisco</td>\n",
       "      <td>CA</td>\n",
       "      <td>3.942708e+06</td>\n",
       "      <td>37.792979</td>\n",
       "      <td>-122.421242</td>\n",
       "    </tr>\n",
       "    <tr>\n",
       "      <th>11</th>\n",
       "      <td>2017</td>\n",
       "      <td>94109</td>\n",
       "      <td>3</td>\n",
       "      <td>4</td>\n",
       "      <td>3</td>\n",
       "      <td>4</td>\n",
       "      <td>7</td>\n",
       "      <td>1</td>\n",
       "      <td>2</td>\n",
       "      <td>San Francisco</td>\n",
       "      <td>CA</td>\n",
       "      <td>3.942708e+06</td>\n",
       "      <td>37.792979</td>\n",
       "      <td>-122.421242</td>\n",
       "    </tr>\n",
       "    <tr>\n",
       "      <th>14</th>\n",
       "      <td>2017</td>\n",
       "      <td>94109</td>\n",
       "      <td>3</td>\n",
       "      <td>2</td>\n",
       "      <td>3</td>\n",
       "      <td>4</td>\n",
       "      <td>6</td>\n",
       "      <td>1</td>\n",
       "      <td>2</td>\n",
       "      <td>San Francisco</td>\n",
       "      <td>CA</td>\n",
       "      <td>3.942708e+06</td>\n",
       "      <td>37.792979</td>\n",
       "      <td>-122.421242</td>\n",
       "    </tr>\n",
       "    <tr>\n",
       "      <th>25</th>\n",
       "      <td>2017</td>\n",
       "      <td>94109</td>\n",
       "      <td>1</td>\n",
       "      <td>5</td>\n",
       "      <td>2</td>\n",
       "      <td>2</td>\n",
       "      <td>2</td>\n",
       "      <td>1</td>\n",
       "      <td>2</td>\n",
       "      <td>San Francisco</td>\n",
       "      <td>CA</td>\n",
       "      <td>3.942708e+06</td>\n",
       "      <td>37.792979</td>\n",
       "      <td>-122.421242</td>\n",
       "    </tr>\n",
       "  </tbody>\n",
       "</table>\n",
       "</div>"
      ],
      "text/plain": [
       "    year  zipcode  dage  dethnic  dlivedsf  deduc  dincome  movesf  ownrenhm  \\\n",
       "4   2017    94109     5        4         1      4        8       1         3   \n",
       "7   2017    94109     2        2         4      4        5       1         2   \n",
       "11  2017    94109     3        4         3      4        7       1         2   \n",
       "14  2017    94109     3        2         3      4        6       1         2   \n",
       "25  2017    94109     1        5         2      2        2       1         2   \n",
       "\n",
       "             City State      AvePrice        Lat         Lng  \n",
       "4   San Francisco    CA  3.942708e+06  37.792979 -122.421242  \n",
       "7   San Francisco    CA  3.942708e+06  37.792979 -122.421242  \n",
       "11  San Francisco    CA  3.942708e+06  37.792979 -122.421242  \n",
       "14  San Francisco    CA  3.942708e+06  37.792979 -122.421242  \n",
       "25  San Francisco    CA  3.942708e+06  37.792979 -122.421242  "
      ]
     },
     "execution_count": 4,
     "metadata": {},
     "output_type": "execute_result"
    }
   ],
   "source": [
    "# Filter on only respondents very likely to move out of San Francisco.\n",
    "very_likely = sf_df[sf_df['movesf']== 1]\n",
    "very_likely.head()"
   ]
  },
  {
   "cell_type": "code",
   "execution_count": 5,
   "metadata": {},
   "outputs": [
    {
     "data": {
      "text/html": [
       "<div>\n",
       "<style scoped>\n",
       "    .dataframe tbody tr th:only-of-type {\n",
       "        vertical-align: middle;\n",
       "    }\n",
       "\n",
       "    .dataframe tbody tr th {\n",
       "        vertical-align: top;\n",
       "    }\n",
       "\n",
       "    .dataframe thead th {\n",
       "        text-align: right;\n",
       "    }\n",
       "</style>\n",
       "<table border=\"1\" class=\"dataframe\">\n",
       "  <thead>\n",
       "    <tr style=\"text-align: right;\">\n",
       "      <th></th>\n",
       "      <th>age_group_desc</th>\n",
       "      <th>age_group_index</th>\n",
       "      <th>age_group_count</th>\n",
       "    </tr>\n",
       "  </thead>\n",
       "  <tbody>\n",
       "    <tr>\n",
       "      <th>0</th>\n",
       "      <td>18-24</td>\n",
       "      <td>1</td>\n",
       "      <td>18</td>\n",
       "    </tr>\n",
       "    <tr>\n",
       "      <th>1</th>\n",
       "      <td>25-34</td>\n",
       "      <td>2</td>\n",
       "      <td>47</td>\n",
       "    </tr>\n",
       "    <tr>\n",
       "      <th>2</th>\n",
       "      <td>35-44</td>\n",
       "      <td>3</td>\n",
       "      <td>57</td>\n",
       "    </tr>\n",
       "    <tr>\n",
       "      <th>3</th>\n",
       "      <td>45-54</td>\n",
       "      <td>4</td>\n",
       "      <td>26</td>\n",
       "    </tr>\n",
       "    <tr>\n",
       "      <th>4</th>\n",
       "      <td>55-59</td>\n",
       "      <td>5</td>\n",
       "      <td>14</td>\n",
       "    </tr>\n",
       "  </tbody>\n",
       "</table>\n",
       "</div>"
      ],
      "text/plain": [
       "  age_group_desc  age_group_index  age_group_count\n",
       "0          18-24                1               18\n",
       "1          25-34                2               47\n",
       "2          35-44                3               57\n",
       "3          45-54                4               26\n",
       "4          55-59                5               14"
      ]
     },
     "execution_count": 5,
     "metadata": {},
     "output_type": "execute_result"
    }
   ],
   "source": [
    "# Get the count of respondents likely to leave San Francisco by age group.\n",
    "age_group_moveout = pd.DataFrame(very_likely['dage'].value_counts())\n",
    "age_group_moveout = age_group_moveout.rename(columns={'dage': 'age_group_count'})\n",
    "age_group_moveout[\"age_group_index\"] = age_group_moveout.index\n",
    "\n",
    "# Lookup value with corresponding description of each age group.\n",
    "age_group_values = pd.DataFrame({'age_group_index' : [1, 2, 3, 4, 5, 6, 7, 8 ],\n",
    "                                 'age_group_desc': [\"18-24\", \"25-34\", \"35-44\", \"45-54\", \"55-59\", \"60-64\", \"65+\", \"No answer\"]})\n",
    "\n",
    "# Merge count of respondents by age group with age group description\n",
    "age_group = pd.merge(age_group_values, age_group_moveout, on='age_group_index')\n",
    "age_group.head()"
   ]
  },
  {
   "cell_type": "code",
   "execution_count": 6,
   "metadata": {},
   "outputs": [
    {
     "data": {
      "text/html": [
       "<div>\n",
       "<style scoped>\n",
       "    .dataframe tbody tr th:only-of-type {\n",
       "        vertical-align: middle;\n",
       "    }\n",
       "\n",
       "    .dataframe tbody tr th {\n",
       "        vertical-align: top;\n",
       "    }\n",
       "\n",
       "    .dataframe thead th {\n",
       "        text-align: right;\n",
       "    }\n",
       "</style>\n",
       "<table border=\"1\" class=\"dataframe\">\n",
       "  <thead>\n",
       "    <tr style=\"text-align: right;\">\n",
       "      <th></th>\n",
       "      <th>ethnicity_desc</th>\n",
       "      <th>ethnicity_index</th>\n",
       "      <th>ethnicity_count</th>\n",
       "    </tr>\n",
       "  </thead>\n",
       "  <tbody>\n",
       "    <tr>\n",
       "      <th>0</th>\n",
       "      <td>African American/Black</td>\n",
       "      <td>1</td>\n",
       "      <td>15</td>\n",
       "    </tr>\n",
       "    <tr>\n",
       "      <th>1</th>\n",
       "      <td>Asian</td>\n",
       "      <td>2</td>\n",
       "      <td>30</td>\n",
       "    </tr>\n",
       "    <tr>\n",
       "      <th>2</th>\n",
       "      <td>Arab/Middle Eastern/North African</td>\n",
       "      <td>3</td>\n",
       "      <td>6</td>\n",
       "    </tr>\n",
       "    <tr>\n",
       "      <th>3</th>\n",
       "      <td>Caucasian/White</td>\n",
       "      <td>4</td>\n",
       "      <td>81</td>\n",
       "    </tr>\n",
       "    <tr>\n",
       "      <th>4</th>\n",
       "      <td>Hispanic/Latino</td>\n",
       "      <td>5</td>\n",
       "      <td>35</td>\n",
       "    </tr>\n",
       "  </tbody>\n",
       "</table>\n",
       "</div>"
      ],
      "text/plain": [
       "                      ethnicity_desc  ethnicity_index  ethnicity_count\n",
       "0             African American/Black                1               15\n",
       "1                              Asian                2               30\n",
       "2  Arab/Middle Eastern/North African                3                6\n",
       "3                    Caucasian/White                4               81\n",
       "4                    Hispanic/Latino                5               35"
      ]
     },
     "execution_count": 6,
     "metadata": {},
     "output_type": "execute_result"
    }
   ],
   "source": [
    "# Get the count of respondents likely to leave San Francisco by ethnicity.\n",
    "ethnicity_moveout = pd.DataFrame(very_likely['dethnic'].value_counts())\n",
    "ethnicity_moveout = ethnicity_moveout.rename(columns={'dethnic': 'ethnicity_count'})\n",
    "ethnicity_moveout[\"ethnicity_index\"] = ethnicity_moveout.index\n",
    "\n",
    "# Lookup value with corresponding description of each ethnicity.\n",
    "ethnicity_values = pd.DataFrame({'ethnicity_index' : [1, 2, 3, 4, 5, 6, 7, 8, 9, 10],\n",
    "                                 'ethnicity_desc': [\"African American/Black\", \"Asian\", \"Arab/Middle Eastern/North African\", \\\n",
    "                                    \"Caucasian/White\", \"Hispanic/Latino\", \"Native American/Indian\", \\\n",
    "                                    \"Pacific Islander\", \"Other\", \"Refused/No Answer\", \"Mixed Ethnicity\"]})\n",
    "\n",
    "# Merge count of respondents by ethnicity with ethnicity description\n",
    "ethnicity = pd.merge(ethnicity_values, ethnicity_moveout, on='ethnicity_index')\n",
    "ethnicity.head()"
   ]
  },
  {
   "cell_type": "code",
   "execution_count": 7,
   "metadata": {},
   "outputs": [
    {
     "data": {
      "text/html": [
       "<div>\n",
       "<style scoped>\n",
       "    .dataframe tbody tr th:only-of-type {\n",
       "        vertical-align: middle;\n",
       "    }\n",
       "\n",
       "    .dataframe tbody tr th {\n",
       "        vertical-align: top;\n",
       "    }\n",
       "\n",
       "    .dataframe thead th {\n",
       "        text-align: right;\n",
       "    }\n",
       "</style>\n",
       "<table border=\"1\" class=\"dataframe\">\n",
       "  <thead>\n",
       "    <tr style=\"text-align: right;\">\n",
       "      <th></th>\n",
       "      <th>years_in_sf_desc</th>\n",
       "      <th>years_in_sf_index</th>\n",
       "      <th>years_in_sf_count</th>\n",
       "    </tr>\n",
       "  </thead>\n",
       "  <tbody>\n",
       "    <tr>\n",
       "      <th>0</th>\n",
       "      <td>&lt; 2 years</td>\n",
       "      <td>1</td>\n",
       "      <td>16</td>\n",
       "    </tr>\n",
       "    <tr>\n",
       "      <th>1</th>\n",
       "      <td>3-5 years</td>\n",
       "      <td>2</td>\n",
       "      <td>17</td>\n",
       "    </tr>\n",
       "    <tr>\n",
       "      <th>2</th>\n",
       "      <td>6-10 years</td>\n",
       "      <td>3</td>\n",
       "      <td>30</td>\n",
       "    </tr>\n",
       "    <tr>\n",
       "      <th>3</th>\n",
       "      <td>11-20 years</td>\n",
       "      <td>4</td>\n",
       "      <td>54</td>\n",
       "    </tr>\n",
       "    <tr>\n",
       "      <th>4</th>\n",
       "      <td>21-30 years</td>\n",
       "      <td>5</td>\n",
       "      <td>29</td>\n",
       "    </tr>\n",
       "  </tbody>\n",
       "</table>\n",
       "</div>"
      ],
      "text/plain": [
       "  years_in_sf_desc  years_in_sf_index  years_in_sf_count\n",
       "0        < 2 years                  1                 16\n",
       "1        3-5 years                  2                 17\n",
       "2       6-10 years                  3                 30\n",
       "3      11-20 years                  4                 54\n",
       "4      21-30 years                  5                 29"
      ]
     },
     "execution_count": 7,
     "metadata": {},
     "output_type": "execute_result"
    }
   ],
   "source": [
    "# Get the count of how long respondents who are likely to leave San Francisco been living there.\n",
    "years_in_sf_moveout = pd.DataFrame(very_likely['dlivedsf'].value_counts())\n",
    "years_in_sf_moveout = years_in_sf_moveout.rename(columns={'dlivedsf': 'years_in_sf_count'})\n",
    "years_in_sf_moveout[\"years_in_sf_index\"] = years_in_sf_moveout.index\n",
    "\n",
    "# Lookup value with corresponding description by the numbers years in San Francisco.\n",
    "years_in_sf_values = pd.DataFrame({'years_in_sf_index' : [1, 2, 3, 4, 5, 6, 7],\n",
    "                                 'years_in_sf_desc': [\"< 2 years\", \"3-5 years\", \"6-10 years\", \"11-20 years\", \\\n",
    "                                                    \"21-30 years\", \"> 30 years\", \"Don't know/No answer\"]})\n",
    "\n",
    "# Merge count of respondents by age group with age group description\n",
    "years_in_sf = pd.merge(years_in_sf_values, years_in_sf_moveout, on='years_in_sf_index')\n",
    "years_in_sf.head()"
   ]
  },
  {
   "cell_type": "code",
   "execution_count": 8,
   "metadata": {},
   "outputs": [
    {
     "data": {
      "text/html": [
       "<div>\n",
       "<style scoped>\n",
       "    .dataframe tbody tr th:only-of-type {\n",
       "        vertical-align: middle;\n",
       "    }\n",
       "\n",
       "    .dataframe tbody tr th {\n",
       "        vertical-align: top;\n",
       "    }\n",
       "\n",
       "    .dataframe thead th {\n",
       "        text-align: right;\n",
       "    }\n",
       "</style>\n",
       "<table border=\"1\" class=\"dataframe\">\n",
       "  <thead>\n",
       "    <tr style=\"text-align: right;\">\n",
       "      <th></th>\n",
       "      <th>education_desc</th>\n",
       "      <th>education_index</th>\n",
       "      <th>education_count</th>\n",
       "    </tr>\n",
       "  </thead>\n",
       "  <tbody>\n",
       "    <tr>\n",
       "      <th>0</th>\n",
       "      <td>&lt; high school</td>\n",
       "      <td>1</td>\n",
       "      <td>13</td>\n",
       "    </tr>\n",
       "    <tr>\n",
       "      <th>1</th>\n",
       "      <td>High school</td>\n",
       "      <td>2</td>\n",
       "      <td>25</td>\n",
       "    </tr>\n",
       "    <tr>\n",
       "      <th>2</th>\n",
       "      <td>&lt; 4 years of college</td>\n",
       "      <td>3</td>\n",
       "      <td>43</td>\n",
       "    </tr>\n",
       "    <tr>\n",
       "      <th>3</th>\n",
       "      <td>4 or &gt; years of college/Post Graduate</td>\n",
       "      <td>4</td>\n",
       "      <td>113</td>\n",
       "    </tr>\n",
       "    <tr>\n",
       "      <th>4</th>\n",
       "      <td>No answer</td>\n",
       "      <td>5</td>\n",
       "      <td>1</td>\n",
       "    </tr>\n",
       "  </tbody>\n",
       "</table>\n",
       "</div>"
      ],
      "text/plain": [
       "                          education_desc  education_index  education_count\n",
       "0                          < high school                1               13\n",
       "1                            High school                2               25\n",
       "2                   < 4 years of college                3               43\n",
       "3  4 or > years of college/Post Graduate                4              113\n",
       "4                              No answer                5                1"
      ]
     },
     "execution_count": 8,
     "metadata": {},
     "output_type": "execute_result"
    }
   ],
   "source": [
    "# Get the count of respondents likely to leave San Francisco by education level.\n",
    "education_moveout = pd.DataFrame(very_likely['deduc'].value_counts())\n",
    "education_moveout = education_moveout.rename(columns={'deduc': 'education_count'})\n",
    "education_moveout[\"education_index\"] = education_moveout.index\n",
    "\n",
    "# Lookup value with corresponding description by education level.\n",
    "education_values = pd.DataFrame({'education_index' : [1, 2, 3, 4, 5],\n",
    "                                 'education_desc': [\"< high school\", \"High school\", \"< 4 years of college\", \\\n",
    "                                                    \"4 or > years of college/Post Graduate\", \"No answer\"]})\n",
    "\n",
    "# Merge count of respondents by education level with education level description\n",
    "education = pd.merge(education_values, education_moveout, on='education_index')\n",
    "education.head()"
   ]
  },
  {
   "cell_type": "code",
   "execution_count": 9,
   "metadata": {},
   "outputs": [
    {
     "data": {
      "text/html": [
       "<div>\n",
       "<style scoped>\n",
       "    .dataframe tbody tr th:only-of-type {\n",
       "        vertical-align: middle;\n",
       "    }\n",
       "\n",
       "    .dataframe tbody tr th {\n",
       "        vertical-align: top;\n",
       "    }\n",
       "\n",
       "    .dataframe thead th {\n",
       "        text-align: right;\n",
       "    }\n",
       "</style>\n",
       "<table border=\"1\" class=\"dataframe\">\n",
       "  <thead>\n",
       "    <tr style=\"text-align: right;\">\n",
       "      <th></th>\n",
       "      <th>income_desc</th>\n",
       "      <th>income_index</th>\n",
       "      <th>income_count</th>\n",
       "    </tr>\n",
       "  </thead>\n",
       "  <tbody>\n",
       "    <tr>\n",
       "      <th>0</th>\n",
       "      <td>$10k or less</td>\n",
       "      <td>1</td>\n",
       "      <td>10</td>\n",
       "    </tr>\n",
       "    <tr>\n",
       "      <th>1</th>\n",
       "      <td>$10,001 to $25k</td>\n",
       "      <td>2</td>\n",
       "      <td>13</td>\n",
       "    </tr>\n",
       "    <tr>\n",
       "      <th>2</th>\n",
       "      <td>$25,001 to $35k</td>\n",
       "      <td>3</td>\n",
       "      <td>13</td>\n",
       "    </tr>\n",
       "    <tr>\n",
       "      <th>3</th>\n",
       "      <td>$35,001 to $50k</td>\n",
       "      <td>4</td>\n",
       "      <td>13</td>\n",
       "    </tr>\n",
       "    <tr>\n",
       "      <th>4</th>\n",
       "      <td>$50,001 to $100k</td>\n",
       "      <td>5</td>\n",
       "      <td>46</td>\n",
       "    </tr>\n",
       "  </tbody>\n",
       "</table>\n",
       "</div>"
      ],
      "text/plain": [
       "        income_desc  income_index  income_count\n",
       "0      $10k or less             1            10\n",
       "1   $10,001 to $25k             2            13\n",
       "2   $25,001 to $35k             3            13\n",
       "3   $35,001 to $50k             4            13\n",
       "4  $50,001 to $100k             5            46"
      ]
     },
     "execution_count": 9,
     "metadata": {},
     "output_type": "execute_result"
    }
   ],
   "source": [
    "# Get the count of respondents likely to leave San Francisco by income level.\n",
    "income_moveout = pd.DataFrame(very_likely['dincome'].value_counts())\n",
    "income_moveout = income_moveout.rename(columns={'dincome': 'income_count'})\n",
    "income_moveout[\"income_index\"] = income_moveout.index\n",
    "\n",
    "# Lookup value with corresponding description by income level.\n",
    "income_values = pd.DataFrame({'income_index' : [1, 2, 3, 4, 5, 6, 7, 8],\n",
    "                            'income_desc': [\"$10k or less\", \"$10,001 to $25k\", \\\n",
    "                                            \"$25,001 to $35k\", \"$35,001 to $50k\", \"$50,001 to $100k\", \\\n",
    "                                            \"$100,001 to $200k\", \"over $200k\", \"Refused\"]})\n",
    "\n",
    "# Merge count of respondents by income level with income level description\n",
    "income = pd.merge(income_values, income_moveout, on='income_index')\n",
    "income.head()"
   ]
  },
  {
   "cell_type": "code",
   "execution_count": 10,
   "metadata": {},
   "outputs": [
    {
     "data": {
      "text/html": [
       "<div>\n",
       "<style scoped>\n",
       "    .dataframe tbody tr th:only-of-type {\n",
       "        vertical-align: middle;\n",
       "    }\n",
       "\n",
       "    .dataframe tbody tr th {\n",
       "        vertical-align: top;\n",
       "    }\n",
       "\n",
       "    .dataframe thead th {\n",
       "        text-align: right;\n",
       "    }\n",
       "</style>\n",
       "<table border=\"1\" class=\"dataframe\">\n",
       "  <thead>\n",
       "    <tr style=\"text-align: right;\">\n",
       "      <th></th>\n",
       "      <th>own_rent_desc</th>\n",
       "      <th>own_rent_index</th>\n",
       "      <th>own_rent_count</th>\n",
       "    </tr>\n",
       "  </thead>\n",
       "  <tbody>\n",
       "    <tr>\n",
       "      <th>0</th>\n",
       "      <td>own</td>\n",
       "      <td>1</td>\n",
       "      <td>54</td>\n",
       "    </tr>\n",
       "    <tr>\n",
       "      <th>1</th>\n",
       "      <td>rent</td>\n",
       "      <td>2</td>\n",
       "      <td>136</td>\n",
       "    </tr>\n",
       "    <tr>\n",
       "      <th>2</th>\n",
       "      <td>other</td>\n",
       "      <td>3</td>\n",
       "      <td>2</td>\n",
       "    </tr>\n",
       "    <tr>\n",
       "      <th>3</th>\n",
       "      <td>No Answer/Refused</td>\n",
       "      <td>4</td>\n",
       "      <td>1</td>\n",
       "    </tr>\n",
       "    <tr>\n",
       "      <th>4</th>\n",
       "      <td>Live with friends/family</td>\n",
       "      <td>5</td>\n",
       "      <td>1</td>\n",
       "    </tr>\n",
       "  </tbody>\n",
       "</table>\n",
       "</div>"
      ],
      "text/plain": [
       "              own_rent_desc  own_rent_index  own_rent_count\n",
       "0                       own               1              54\n",
       "1                      rent               2             136\n",
       "2                     other               3               2\n",
       "3         No Answer/Refused               4               1\n",
       "4  Live with friends/family               5               1"
      ]
     },
     "execution_count": 10,
     "metadata": {},
     "output_type": "execute_result"
    }
   ],
   "source": [
    "# Get the count of respondents likely to leave San Francisco who own or rent his/her home.\n",
    "own_rent_moveout = pd.DataFrame(very_likely['ownrenhm'].value_counts())\n",
    "own_rent_moveout = own_rent_moveout.rename(columns={'ownrenhm': 'own_rent_count'})\n",
    "own_rent_moveout[\"own_rent_index\"] = own_rent_moveout.index\n",
    "\n",
    "# Lookup value with corresponding description by respondents owning or renting his/her home.\n",
    "own_rent_values = pd.DataFrame({'own_rent_index' : [1, 2, 3, 4, 5, 6, 7, 8],\n",
    "                            'own_rent_desc': [\"own\", \"rent\", \"other\", \"No Answer/Refused\", \"Live with friends/family\", \\\n",
    "                            \"Employer provides\", \"Institutional\", \"Homeless\"]})\n",
    "\n",
    "# Merge count of respondents owning or renting a home with corresponding description.\n",
    "own_rent = pd.merge(own_rent_values, own_rent_moveout, on='own_rent_index')\n",
    "own_rent.head()"
   ]
  },
  {
   "cell_type": "code",
   "execution_count": 11,
   "metadata": {},
   "outputs": [
    {
     "data": {
      "text/plain": [
       "0         $10k or less\n",
       "1      $10,001 to $25k\n",
       "2      $25,001 to $35k\n",
       "3      $35,001 to $50k\n",
       "4     $50,001 to $100k\n",
       "5    $100,001 to $200k\n",
       "6           over $200k\n",
       "7              Refused\n",
       "Name: income_desc, dtype: object"
      ]
     },
     "execution_count": 11,
     "metadata": {},
     "output_type": "execute_result"
    }
   ],
   "source": [
    "income['income_desc']"
   ]
  },
  {
   "cell_type": "code",
   "execution_count": 12,
   "metadata": {},
   "outputs": [
    {
     "data": {
      "text/plain": [
       "(0, 56)"
      ]
     },
     "execution_count": 12,
     "metadata": {},
     "output_type": "execute_result"
    },
    {
     "data": {
      "image/png": "[encoded data removed]",
      "text/plain": [
       "<matplotlib.figure.Figure at 0x2473c017668>"
      ]
     },
     "metadata": {},
     "output_type": "display_data"
    }
   ],
   "source": [
    "plt.figure(figsize=(15,10))\n",
    "\n",
    "plt.subplot(2,2,1)\n",
    "x_axis =np.arange(len(age_group))\n",
    "plt.bar(x_axis, age_group['age_group_count'], color='b', alpha=0.5)\n",
    "plt.title('Most Likely to Move Out of SF by Age Group')\n",
    "plt.xticks(x_axis, age_group['age_group_desc'], rotation ='vertical')\n",
    "# Give our chart some labels and a tile\n",
    "plt.title(\"Age Groups Very Likely to move out of San Francisco\")\n",
    "plt.xlabel(\"Age Groups\")\n",
    "plt.ylabel(\"Very Likely to move out of San Francisco\")\n",
    "plt.ylim(0, max(age_group['age_group_count'])+10)\n",
    "\n",
    "plt.subplot(2,2,2)\n",
    "x_axis =np.arange(len(income))\n",
    "plt.bar(x_axis, income['income_count'], color='g', alpha=0.5)\n",
    "plt.title('Most Likely to Move Out of SF by Income Level')\n",
    "plt.xticks(x_axis, income['income_desc'], rotation=45)\n",
    "# Give our chart some labels and a tile\n",
    "plt.title(\"Income Level Very Likely to move out of San Francisco\")\n",
    "plt.xlabel(\"Income Level\")\n",
    "plt.ylabel(\"Very Likely to move out of San Francisco\")\n",
    "plt.ylim(0, max(income['income_count'])+10)"
   ]
  },
  {
   "cell_type": "code",
   "execution_count": 13,
   "metadata": {},
   "outputs": [
    {
     "data": {
      "text/plain": [
       "(0, 91)"
      ]
     },
     "execution_count": 13,
     "metadata": {},
     "output_type": "execute_result"
    },
    {
     "data": {
      "image/png": "[encoded data removed]",
      "text/plain": [
       "<matplotlib.figure.Figure at 0x2473c7ef400>"
      ]
     },
     "metadata": {},
     "output_type": "display_data"
    }
   ],
   "source": [
    "plt.figure(figsize=(15,10))\n",
    "\n",
    "plt.subplot(2,2,1)\n",
    "x_axis =np.arange(len(education))\n",
    "plt.bar(x_axis, education['education_count'], color='y', alpha=0.5)\n",
    "plt.title('Most Likely to Move Out of SF by Education Level')\n",
    "plt.xticks(x_axis, education['education_desc'], rotation='vertical')\n",
    "# Give our chart some labels and a tile\n",
    "plt.title(\"Education Level Very Likely to move out of San Francisco\")\n",
    "plt.xlabel(\"Education Level\")\n",
    "plt.ylabel(\"Very Likely to move out of San Francisco\")\n",
    "plt.ylim(0, max(education['education_count'])+10)\n",
    "\n",
    "plt.subplot(2,2,2)\n",
    "x_axis =np.arange(len(ethnicity))\n",
    "plt.bar(x_axis, ethnicity['ethnicity_count'], color='m', alpha=0.5)\n",
    "plt.title('Most Likely to Move Out of SF by Ethnicity')\n",
    "plt.xticks(x_axis, ethnicity['ethnicity_desc'], rotation='vertical')\n",
    "# Give our chart some labels and a tile\n",
    "plt.title(\"Ethnicity Very Likely to move out of San Francisco\")\n",
    "plt.xlabel(\"Ethnicity\")\n",
    "plt.ylabel(\"Very Likely to move out of San Francisco\")\n",
    "plt.ylim(0, max(ethnicity['ethnicity_count'])+10)"
   ]
  },
  {
   "cell_type": "code",
   "execution_count": 14,
   "metadata": {},
   "outputs": [
    {
     "data": {
      "text/plain": [
       "(0, 64)"
      ]
     },
     "execution_count": 14,
     "metadata": {},
     "output_type": "execute_result"
    },
    {
     "data": {
      "image/png": "[encoded data removed]",
      "text/plain": [
       "<matplotlib.figure.Figure at 0x2473c7bff98>"
      ]
     },
     "metadata": {},
     "output_type": "display_data"
    }
   ],
   "source": [
    "plt.figure(figsize=(15,5))\n",
    "\n",
    "x_axis =np.arange(len(years_in_sf))\n",
    "plt.bar(x_axis, years_in_sf['years_in_sf_count'], color='r', alpha=0.7)\n",
    "plt.title('Most Likely to Move Out of SF by Ethnicity')\n",
    "plt.xticks(x_axis, years_in_sf['years_in_sf_desc'], rotation='vertical')\n",
    "# Give our chart some labels and a tile\n",
    "plt.title(\"Length of Time Lived in San Francisco\")\n",
    "plt.xlabel(\"Length of Time\")\n",
    "plt.ylabel(\"Very Likely to move out of San Francisco\")\n",
    "plt.ylim(0, max(years_in_sf['years_in_sf_count'])+10)"
   ]
  },
  {
   "cell_type": "code",
   "execution_count": 15,
   "metadata": {},
   "outputs": [
    {
     "data": {
      "text/plain": [
       "(0, 146)"
      ]
     },
     "execution_count": 15,
     "metadata": {},
     "output_type": "execute_result"
    },
    {
     "data": {
      "image/png": "[encoded data removed]",
      "text/plain": [
       "<matplotlib.figure.Figure at 0x2473c9f6be0>"
      ]
     },
     "metadata": {},
     "output_type": "display_data"
    }
   ],
   "source": [
    "plt.figure(figsize=(15,5))\n",
    "\n",
    "x_axis =np.arange(len(own_rent))\n",
    "plt.bar(x_axis, own_rent['own_rent_count'], color='b', alpha=0.9)\n",
    "plt.title('Most Likely to Move Out of SF by Home Owners and Renters')\n",
    "plt.xticks(x_axis, own_rent['own_rent_desc'], rotation='vertical')\n",
    "# Give our chart some labels and a tile\n",
    "plt.title(\"Owners vs Renters in San Francisco\")\n",
    "plt.xlabel(\"Owners vs Renters\")\n",
    "plt.ylabel(\"Very Likely to move out of San Francisco\")\n",
    "plt.ylim(0, max(own_rent['own_rent_count'])+10)"
   ]
  },
  {
   "cell_type": "code",
   "execution_count": null,
   "metadata": {},
   "outputs": [],
   "source": []
  }
 ],
 "metadata": {
  "kernelspec": {
   "display_name": "PythonData2",
   "language": "python",
   "name": "envname"
  },
  "language_info": {
   "codemirror_mode": {
    "name": "ipython",
    "version": 3
   },
   "file_extension": ".py",
   "mimetype": "text/x-python",
   "name": "python",
   "nbconvert_exporter": "python",
   "pygments_lexer": "ipython3",
   "version": "3.6.4"
  }
 },
 "nbformat": 4,
 "nbformat_minor": 2
}
